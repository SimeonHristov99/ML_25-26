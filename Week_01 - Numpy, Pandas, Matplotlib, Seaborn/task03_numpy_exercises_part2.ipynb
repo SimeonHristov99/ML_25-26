{
 "cells": [
  {
   "cell_type": "markdown",
   "metadata": {
    "id": "-JsfzlbFE3A3"
   },
   "source": [
    "#### Task 3: Import NumPy\n",
    "\n",
    "This one is easy - just import the package 😄. Make sure to follow the conventions, though!"
   ]
  },
  {
   "cell_type": "code",
   "execution_count": null,
   "metadata": {
    "collapsed": true,
    "id": "-KFBDcZ5E3A6"
   },
   "outputs": [],
   "source": [
    "# Your code here"
   ]
  },
  {
   "cell_type": "markdown",
   "metadata": {
    "id": "YepvzR5qE3A9"
   },
   "source": [
    "#### Task 4: Python vs NumPy\n",
    "\n",
    "Use pure Python and `numpy` to create a Python list/`numpy`:\n",
    "\n",
    "- array of $10$ zeros;\n",
    "- array of $10$ ones;\n",
    "- array of $10$ fives;\n",
    "- array of $10$ zeroes, the fifth value of which is $1$;\n",
    "- array of all the integers from $10$ to $50$;\n",
    "- array of all the even integers from $10$ to $50$;\n",
    "- array that is the reversal of the list `[1, 2, 3]` (save these values in an object and use both methods to reverse that object);\n",
    "- a 3x3 matrix with values ranging from $0$ to $8$;\n",
    "- a 3x3 identity matrix;\n",
    "- a 5x5 matrix with values 1,2,3,4 just below the diagonal."
   ]
  },
  {
   "cell_type": "code",
   "execution_count": null,
   "metadata": {},
   "outputs": [],
   "source": [
    "# Your code here"
   ]
  },
  {
   "cell_type": "code",
   "execution_count": null,
   "metadata": {
    "collapsed": true,
    "id": "x5RpxdUGE3A_"
   },
   "outputs": [
    {
     "name": "stdout",
     "output_type": "stream",
     "text": [
      "array of 10 zeros\n",
      "Python: [0, 0, 0, 0, 0, 0, 0, 0, 0, 0]\n",
      "Numpy: [0. 0. 0. 0. 0. 0. 0. 0. 0. 0.]\n",
      "\n",
      "array of 10 ones\n",
      "Python: [1, 1, 1, 1, 1, 1, 1, 1, 1, 1]\n",
      "Numpy: [1. 1. 1. 1. 1. 1. 1. 1. 1. 1.]\n",
      "\n",
      "array of 10 fives\n",
      "Python: [5, 5, 5, 5, 5, 5, 5, 5, 5, 5]\n",
      "Numpy: [5. 5. 5. 5. 5. 5. 5. 5. 5. 5.]\n",
      "\n",
      "array of 10 zeroes, the fifth value of which is 1\n",
      "Python: [0, 0, 0, 0, 1, 0, 0, 0, 0, 0]\n",
      "Numpy: [0. 0. 0. 0. 1. 0. 0. 0. 0. 0.]\n",
      "\n",
      "array of all the integers from 10 to 50\n",
      "Python: [10, 11, 12, 13, 14, 15, 16, 17, 18, 19, 20, 21, 22, 23, 24, 25, 26, 27, 28, 29, 30, 31, 32, 33, 34, 35, 36, 37, 38, 39, 40, 41, 42, 43, 44, 45, 46, 47, 48, 49, 50]\n",
      "Numpy: [10 11 12 13 14 15 16 17 18 19 20 21 22 23 24 25 26 27 28 29 30 31 32 33\n",
      " 34 35 36 37 38 39 40 41 42 43 44 45 46 47 48 49 50]\n",
      "\n",
      "array of all the even integers from 10 to 50\n",
      "Python: [10, 12, 14, 16, 18, 20, 22, 24, 26, 28, 30, 32, 34, 36, 38, 40, 42, 44, 46, 48, 50]\n",
      "Numpy: [10 12 14 16 18 20 22 24 26 28 30 32 34 36 38 40 42 44 46 48 50]\n",
      "\n",
      "array that is the reversal of the list `[1, 2, 3]`\n",
      "Python: [3, 2, 1]\n",
      "Numpy: [3 2 1]\n",
      "\n",
      "a 3x3 matrix with values ranging from 0 to 8\n",
      "Python: [[0, 1, 2], [3, 4, 5], [6, 7, 8]]\n",
      "Numpy: [[0 1 2]\n",
      " [3 4 5]\n",
      " [6 7 8]]\n",
      "\n",
      "a 3x3 identity matrix\n",
      "Python: [[1, 0, 0], [0, 1, 0], [0, 0, 1]]\n",
      "Numpy: [[1. 0. 0.]\n",
      " [0. 1. 0.]\n",
      " [0. 0. 1.]]\n",
      "\n",
      "a 5x5 matrix with values 1,2,3,4 just below the diagonal\n",
      "Python: [[0, 0, 0, 0, 0], [1, 0, 0, 0, 0], [0, 2, 0, 0, 0], [0, 0, 3, 0, 0], [0, 0, 0, 4, 0]]\n",
      "Numpy: [[0 0 0 0 0]\n",
      " [1 0 0 0 0]\n",
      " [0 2 0 0 0]\n",
      " [0 0 3 0 0]\n",
      " [0 0 0 4 0]]\n"
     ]
    }
   ],
   "source": [
    "# Expected result"
   ]
  },
  {
   "cell_type": "markdown",
   "metadata": {
    "id": "j2cdByl9A2az"
   },
   "source": [
    "#### Task 5: Using only NumPy:\n",
    "\n",
    "1. Create a 5x5 array with $1$ on the border and $0$ inside.\n",
    "2. Add a border filled with $0$'s on the two sides of an array `[1, 2, 3]`.\n",
    "3. Create an array of $20$ equally spaced numbers between $0$ and $1$.\n",
    "4. Create the following matrix:\n",
    "\n",
    "```text\n",
    "array([[0.01, 0.02, 0.03, 0.04, 0.05, 0.06, 0.07, 0.08, 0.09, 0.1 ],\n",
    "       [0.11, 0.12, 0.13, 0.14, 0.15, 0.16, 0.17, 0.18, 0.19, 0.2 ],\n",
    "       [0.21, 0.22, 0.23, 0.24, 0.25, 0.26, 0.27, 0.28, 0.29, 0.3 ],\n",
    "       [0.31, 0.32, 0.33, 0.34, 0.35, 0.36, 0.37, 0.38, 0.39, 0.4 ],\n",
    "       [0.41, 0.42, 0.43, 0.44, 0.45, 0.46, 0.47, 0.48, 0.49, 0.5 ],\n",
    "       [0.51, 0.52, 0.53, 0.54, 0.55, 0.56, 0.57, 0.58, 0.59, 0.6 ],\n",
    "       [0.61, 0.62, 0.63, 0.64, 0.65, 0.66, 0.67, 0.68, 0.69, 0.7 ],\n",
    "       [0.71, 0.72, 0.73, 0.74, 0.75, 0.76, 0.77, 0.78, 0.79, 0.8 ],\n",
    "       [0.81, 0.82, 0.83, 0.84, 0.85, 0.86, 0.87, 0.88, 0.89, 0.9 ],\n",
    "       [0.91, 0.92, 0.93, 0.94, 0.95, 0.96, 0.97, 0.98, 0.99, 1.  ]])\n",
    "```\n",
    "\n",
    "5. Find the indices of the non-zero elements in `[1, 2, 0, 0, 4, 0]`."
   ]
  },
  {
   "cell_type": "code",
   "execution_count": null,
   "metadata": {},
   "outputs": [],
   "source": [
    "# Your code here"
   ]
  },
  {
   "cell_type": "code",
   "execution_count": null,
   "metadata": {},
   "outputs": [
    {
     "name": "stdout",
     "output_type": "stream",
     "text": [
      "Create a 5x5 array with 1 on the border and 0 inside\n",
      "[[1. 1. 1. 1. 1.]\n",
      " [1. 0. 0. 0. 1.]\n",
      " [1. 0. 0. 0. 1.]\n",
      " [1. 0. 0. 0. 1.]\n",
      " [1. 1. 1. 1. 1.]]\n",
      "\n",
      "Add a border filled with '0s on the two sides of an array [1, 2, 3]\n",
      "[0 1 2 3 0]\n",
      "\n",
      "Create an array of 20 equally spaced numbers between 0 and 1\n",
      "[0.         0.05263158 0.10526316 0.15789474 0.21052632 0.26315789\n",
      " 0.31578947 0.36842105 0.42105263 0.47368421 0.52631579 0.57894737\n",
      " 0.63157895 0.68421053 0.73684211 0.78947368 0.84210526 0.89473684\n",
      " 0.94736842 1.        ]\n",
      "\n",
      "Recreation of the matrix\n",
      "[[0.01 0.02 0.03 0.04 0.05 0.06 0.07 0.08 0.09 0.1 ]\n",
      " [0.11 0.12 0.13 0.14 0.15 0.16 0.17 0.18 0.19 0.2 ]\n",
      " [0.21 0.22 0.23 0.24 0.25 0.26 0.27 0.28 0.29 0.3 ]\n",
      " [0.31 0.32 0.33 0.34 0.35 0.36 0.37 0.38 0.39 0.4 ]\n",
      " [0.41 0.42 0.43 0.44 0.45 0.46 0.47 0.48 0.49 0.5 ]\n",
      " [0.51 0.52 0.53 0.54 0.55 0.56 0.57 0.58 0.59 0.6 ]\n",
      " [0.61 0.62 0.63 0.64 0.65 0.66 0.67 0.68 0.69 0.7 ]\n",
      " [0.71 0.72 0.73 0.74 0.75 0.76 0.77 0.78 0.79 0.8 ]\n",
      " [0.81 0.82 0.83 0.84 0.85 0.86 0.87 0.88 0.89 0.9 ]\n",
      " [0.91 0.92 0.93 0.94 0.95 0.96 0.97 0.98 0.99 1.  ]]\n",
      "\n",
      "Find the indices of the non-zero elements in [1, 2, 0, 0, 4, 0]\n",
      "[0 1 4]\n"
     ]
    }
   ],
   "source": [
    "# Expected result"
   ]
  },
  {
   "cell_type": "markdown",
   "metadata": {
    "id": "vncZ8OjmE3Bk"
   },
   "source": [
    "#### Task 6: Use NumPy to generate:\n",
    "\n",
    "- a random number between 0 and 1;\n",
    "- an array of 25 random numbers sampled from a standard normal distribution;\n",
    "- a 3x3x3 array with random values drawn from the uniform distribution;\n",
    "- a 10x10 array with random values drawn from the uniform distribution and find the minimum and maximum values;\n",
    "- a random array with values drawn from the uniform distribution of size 30 and find the mean value;\n",
    "- and multiply a 5x3 matrix by a 3x2 matrix.\n",
    "\n",
    "**Note**: Your values should be different from the one shown below due to randomness."
   ]
  },
  {
   "cell_type": "code",
   "execution_count": null,
   "metadata": {},
   "outputs": [],
   "source": [
    "# Your code here"
   ]
  },
  {
   "cell_type": "code",
   "execution_count": null,
   "metadata": {
    "collapsed": true,
    "id": "1Ha0bAioE3Bl"
   },
   "outputs": [
    {
     "name": "stdout",
     "output_type": "stream",
     "text": [
      "a random number between 0 and 1\n",
      "0.3302392460734943\n",
      "\n",
      "an array of 25 random numbers sampled from a standard normal distribution\n",
      "[-0.85565418  0.4592446   0.90183199  0.53932203  0.04080838 -0.4210383\n",
      "  1.00116207  0.08236895  0.08804113  0.11602095 -0.87912022  0.37818965\n",
      " -0.39515241  0.81614267 -0.73406941 -0.49574339 -0.4419727   2.66688758\n",
      "  1.69571397  0.83054423  1.2732238  -1.55596546 -0.16924736 -1.12509893\n",
      " -0.05953329]\n",
      "\n",
      "a 3x3x3 array with random values drawn from the uniform distribution\n",
      "[[[0.42054451 0.27312439 0.95347927]\n",
      "  [0.55134496 0.6235185  0.72550932]\n",
      "  [0.37674019 0.56769456 0.58315167]]\n",
      "\n",
      " [[0.96651862 0.81392441 0.26927728]\n",
      "  [0.758904   0.75618622 0.35625557]\n",
      "  [0.12351087 0.43525117 0.68535189]]\n",
      "\n",
      " [[0.06672974 0.36402819 0.166292  ]\n",
      "  [0.95530001 0.84750085 0.25077735]\n",
      "  [0.95153091 0.8262242  0.86062338]]]\n",
      "\n",
      "a 10x10 array with random values drawn from the uniform distribution and find the minimum and maximum values\n",
      "The array:\n",
      "[[0.32519229 0.66282593 0.61989954 0.07527424 0.52431578 0.1163008\n",
      "  0.06588439 0.38897722 0.7094912  0.9512372 ]\n",
      " [0.27006752 0.87364266 0.47573915 0.8857505  0.81362262 0.18347142\n",
      "  0.57629091 0.63994663 0.06650606 0.9660862 ]\n",
      " [0.33202597 0.87073278 0.77752295 0.59832136 0.70552338 0.1282946\n",
      "  0.45405954 0.01934355 0.99147991 0.34689248]\n",
      " [0.11876048 0.29557761 0.03211316 0.33585229 0.34901757 0.15152784\n",
      "  0.64343149 0.45598433 0.11402867 0.4460962 ]\n",
      " [0.60458533 0.38387572 0.8741945  0.63333079 0.57371031 0.34191601\n",
      "  0.82137499 0.11507934 0.5034309  0.53620947]\n",
      " [0.98507627 0.15083098 0.00877505 0.62192843 0.01332104 0.46810488\n",
      "  0.60165638 0.34413555 0.20858533 0.7037773 ]\n",
      " [0.9075867  0.16977092 0.05927701 0.56066483 0.26157815 0.7880367\n",
      "  0.49108934 0.93566943 0.87467118 0.41796011]\n",
      " [0.37074297 0.79964587 0.80325066 0.38686502 0.71912321 0.27936839\n",
      "  0.73312472 0.24671962 0.37469304 0.35746353]\n",
      " [0.50018741 0.64428627 0.61266122 0.66893936 0.65598036 0.71556371\n",
      "  0.1030486  0.30556613 0.6456749  0.85362085]\n",
      " [0.54468483 0.7925643  0.60555553 0.0240457  0.26647654 0.88321908\n",
      "  0.24443485 0.81706548 0.8320475  0.09101506]]\n",
      "Min and max values: (np.float64(0.008775053037628266), np.float64(0.9914799058084182))\n",
      "\n",
      "a random array with values drawn from the uniform distribution of size 30 and find the mean value\n",
      "The array:\n",
      "[0.81060261 0.27947794 0.56207246 0.02839468 0.5091936  0.5735881\n",
      " 0.76063945 0.94708019 0.49715886 0.79659916 0.02958748 0.15244612\n",
      " 0.38691018 0.00726289 0.66288574 0.26483644 0.48175453 0.34493811\n",
      " 0.92911276 0.85196562 0.98641861 0.26557118 0.39179085 0.84022621\n",
      " 0.72025307 0.27252348 0.40352903 0.81990593 0.52348714 0.63118138]\n",
      "Its mean: 0.5243797931990124\n",
      "\n",
      "multiplying a 5x3 matrix by a 3x2 matrix each with random values\n",
      "[[0.549705   0.49004663]\n",
      " [0.64281832 0.52010822]\n",
      " [1.17784986 0.74003738]\n",
      " [0.38654841 0.97721243]\n",
      " [1.01762069 0.80488004]]\n"
     ]
    }
   ],
   "source": [
    "# Expected result"
   ]
  },
  {
   "cell_type": "markdown",
   "metadata": {
    "id": "csV1F6E-E3Bx"
   },
   "source": [
    "#### Task 7: Write code that uses the below matrix to reproduce the expected output"
   ]
  },
  {
   "cell_type": "code",
   "execution_count": 80,
   "metadata": {
    "id": "PdQlEg3iE3By",
    "outputId": "4855718d-6a97-4e38-dc73-f44b82db4295"
   },
   "outputs": [
    {
     "data": {
      "text/plain": [
       "array([[ 1,  2,  3,  4,  5],\n",
       "       [ 6,  7,  8,  9, 10],\n",
       "       [11, 12, 13, 14, 15],\n",
       "       [16, 17, 18, 19, 20],\n",
       "       [21, 22, 23, 24, 25]])"
      ]
     },
     "execution_count": 80,
     "metadata": {},
     "output_type": "execute_result"
    }
   ],
   "source": [
    "# RUN THIS CELL - THIS IS OUR STARTING MATRIX\n",
    "mat = np.arange(1,26).reshape(5,5)\n",
    "mat"
   ]
  },
  {
   "cell_type": "code",
   "execution_count": null,
   "metadata": {},
   "outputs": [],
   "source": [
    "# Your code here"
   ]
  },
  {
   "cell_type": "code",
   "execution_count": null,
   "metadata": {
    "id": "k7yDnnYOE3B2",
    "outputId": "454d330c-7f19-4f4a-d71b-7e1302c97936"
   },
   "outputs": [
    {
     "data": {
      "text/plain": [
       "array([[12, 13, 14, 15],\n",
       "       [17, 18, 19, 20],\n",
       "       [22, 23, 24, 25]])"
      ]
     },
     "execution_count": 81,
     "metadata": {},
     "output_type": "execute_result"
    }
   ],
   "source": [
    "# Expected result"
   ]
  },
  {
   "cell_type": "code",
   "execution_count": null,
   "metadata": {},
   "outputs": [],
   "source": [
    "# Your code here"
   ]
  },
  {
   "cell_type": "code",
   "execution_count": null,
   "metadata": {
    "id": "Xq0kG2LSE3B4",
    "outputId": "3a10c27b-fb61-402b-f634-7b91e297b5a3"
   },
   "outputs": [
    {
     "data": {
      "text/plain": [
       "np.int64(20)"
      ]
     },
     "execution_count": 82,
     "metadata": {},
     "output_type": "execute_result"
    }
   ],
   "source": [
    "# Expected result"
   ]
  },
  {
   "cell_type": "code",
   "execution_count": null,
   "metadata": {},
   "outputs": [],
   "source": [
    "# Your code here"
   ]
  },
  {
   "cell_type": "code",
   "execution_count": null,
   "metadata": {
    "id": "NA5nV-usE3B8",
    "outputId": "b5f50c96-af45-4f76-e6f6-10a92cd6dce2"
   },
   "outputs": [
    {
     "data": {
      "text/plain": [
       "array([[ 2],\n",
       "       [ 7],\n",
       "       [12]])"
      ]
     },
     "execution_count": 83,
     "metadata": {},
     "output_type": "execute_result"
    }
   ],
   "source": [
    "# Expected result"
   ]
  },
  {
   "cell_type": "code",
   "execution_count": null,
   "metadata": {},
   "outputs": [],
   "source": [
    "# Your code here"
   ]
  },
  {
   "cell_type": "code",
   "execution_count": null,
   "metadata": {
    "id": "0lLgHznHE3B_",
    "outputId": "459dbdea-c57b-4287-81ba-5656856de2f3"
   },
   "outputs": [
    {
     "data": {
      "text/plain": [
       "array([21, 22, 23, 24, 25])"
      ]
     },
     "execution_count": 84,
     "metadata": {},
     "output_type": "execute_result"
    }
   ],
   "source": [
    "# Expected result"
   ]
  },
  {
   "cell_type": "code",
   "execution_count": null,
   "metadata": {},
   "outputs": [],
   "source": [
    "# Your code here"
   ]
  },
  {
   "cell_type": "code",
   "execution_count": null,
   "metadata": {
    "id": "GHENKrGbE3CC",
    "outputId": "c26c1648-a148-428e-ebc8-c4f9fa754eef"
   },
   "outputs": [
    {
     "data": {
      "text/plain": [
       "array([[16, 17, 18, 19, 20],\n",
       "       [21, 22, 23, 24, 25]])"
      ]
     },
     "execution_count": 85,
     "metadata": {},
     "output_type": "execute_result"
    }
   ],
   "source": [
    "# Expected result"
   ]
  },
  {
   "cell_type": "markdown",
   "metadata": {
    "id": "fmax4qmCE3CE"
   },
   "source": [
    "#### Task 8: Continue using the matrix `mat` to calculate the:\n",
    "\n",
    "- sum of its values;\n",
    "- standard deviation of its values;\n",
    "- the sum of all the columns;"
   ]
  },
  {
   "cell_type": "code",
   "execution_count": null,
   "metadata": {},
   "outputs": [],
   "source": [
    "# Your code here"
   ]
  },
  {
   "cell_type": "code",
   "execution_count": null,
   "metadata": {
    "id": "G1lomhQEE3CF",
    "outputId": "eb404717-16e8-4ad4-9de2-0aaea05eaba2"
   },
   "outputs": [
    {
     "data": {
      "text/plain": [
       "np.int64(325)"
      ]
     },
     "execution_count": 86,
     "metadata": {},
     "output_type": "execute_result"
    }
   ],
   "source": [
    "# Expected result"
   ]
  },
  {
   "cell_type": "code",
   "execution_count": null,
   "metadata": {},
   "outputs": [],
   "source": [
    "# Your code here"
   ]
  },
  {
   "cell_type": "code",
   "execution_count": null,
   "metadata": {
    "id": "9u7MXt1OE3CH",
    "outputId": "4418b06b-d4f4-4122-cc23-1ccc80591aa0"
   },
   "outputs": [
    {
     "data": {
      "text/plain": [
       "np.float64(7.211102550927978)"
      ]
     },
     "execution_count": 87,
     "metadata": {},
     "output_type": "execute_result"
    }
   ],
   "source": [
    "# Expected result"
   ]
  },
  {
   "cell_type": "code",
   "execution_count": null,
   "metadata": {},
   "outputs": [],
   "source": [
    "# Your code here"
   ]
  },
  {
   "cell_type": "code",
   "execution_count": null,
   "metadata": {
    "id": "mbCsLwxQE3CI",
    "outputId": "74ecfae7-202b-49f1-e46b-d3d59509d741"
   },
   "outputs": [
    {
     "data": {
      "text/plain": [
       "array([55, 60, 65, 70, 75])"
      ]
     },
     "execution_count": 88,
     "metadata": {},
     "output_type": "execute_result"
    }
   ],
   "source": [
    "# Expected result"
   ]
  },
  {
   "cell_type": "markdown",
   "metadata": {
    "id": "vZO-9cRnDoTk"
   },
   "source": [
    "#### Task 9: Let's practice composing operations:\n",
    "\n",
    "1. Create a 1D array of random integers between $0$ and $9$. Negate all numbers that fall in the interval $[3, 8]$.\n",
    "2. Create a random array with floating point values of size $10$ and sort it.\n",
    "3. Create random vector of values drawn from the uniform distribution of size $10$ and replace the maximum value with $0$."
   ]
  },
  {
   "cell_type": "code",
   "execution_count": null,
   "metadata": {},
   "outputs": [],
   "source": [
    "# Your code here"
   ]
  },
  {
   "cell_type": "code",
   "execution_count": null,
   "metadata": {
    "colab": {
     "base_uri": "https://localhost:8080/"
    },
    "id": "M9IQNbmJwzah",
    "outputId": "c1980b73-1ce0-4434-9e89-5f14e8329706"
   },
   "outputs": [
    {
     "data": {
      "text/plain": [
       "array([-8,  0, -4, -8, -4,  2, -5, -5,  9, -7])"
      ]
     },
     "execution_count": 89,
     "metadata": {},
     "output_type": "execute_result"
    }
   ],
   "source": [
    "# Expected result"
   ]
  },
  {
   "cell_type": "code",
   "execution_count": null,
   "metadata": {},
   "outputs": [],
   "source": [
    "# Your code here"
   ]
  },
  {
   "cell_type": "code",
   "execution_count": null,
   "metadata": {
    "colab": {
     "base_uri": "https://localhost:8080/"
    },
    "id": "ufEMUrNmxPRX",
    "outputId": "e3f772c4-f6d2-4fb5-c826-539bbeba2a75"
   },
   "outputs": [
    {
     "data": {
      "text/plain": [
       "array([0.02586911, 0.14107383, 0.38260027, 0.39262931, 0.5819897 ,\n",
       "       0.68907354, 0.69246722, 0.74188078, 0.77896302, 0.95616985])"
      ]
     },
     "execution_count": 90,
     "metadata": {},
     "output_type": "execute_result"
    }
   ],
   "source": [
    "# Expected result"
   ]
  },
  {
   "cell_type": "code",
   "execution_count": null,
   "metadata": {},
   "outputs": [],
   "source": [
    "# Your code here"
   ]
  },
  {
   "cell_type": "code",
   "execution_count": null,
   "metadata": {
    "colab": {
     "base_uri": "https://localhost:8080/"
    },
    "executionInfo": {
     "elapsed": 14,
     "status": "ok",
     "timestamp": 1660391864203,
     "user": {
      "displayName": "Simeon Hristov",
      "userId": "14036852932086046142"
     },
     "user_tz": -180
    },
    "id": "FOdlAkmSEVMf",
    "outputId": "b7ecf9b9-533d-4a56-c028-328d324fdf9e"
   },
   "outputs": [
    {
     "name": "stdout",
     "output_type": "stream",
     "text": [
      "The array: [0.44451769 0.53691507 0.76973933 0.64541201 0.78163228 0.49481479\n",
      " 0.38390582 0.04337888 0.16149176 0.22652179]\n",
      "Result: [0.44451769 0.53691507 0.76973933 0.64541201 0.         0.49481479\n",
      " 0.38390582 0.04337888 0.16149176 0.22652179]\n"
     ]
    }
   ],
   "source": [
    "# Expected result"
   ]
  },
  {
   "cell_type": "markdown",
   "metadata": {
    "id": "1McMRiqA1SFM"
   },
   "source": [
    "#### Task 10: Reproducibility\n",
    "\n",
    "When training models, it's often important to generate the same random numbers every time the application is run, even if the machine changes. This ability helps us remove the possibility of creating the situation: *Well, it works on my machine...*.\n",
    "\n",
    "Our code should work on all machines and produce the same results across different runs.\n",
    "\n",
    "Go through the [documentation](https://numpy.org/doc/stable/reference/module_structure.html) and answer the below question.\n",
    "\n",
    "How can we ensure that we always get the same random numbers (even if we switch machines)? Give two examples.\n",
    "\n",
    "> **Your answer**: ...write here..."
   ]
  }
 ],
 "metadata": {
  "anaconda-cloud": {},
  "colab": {
   "collapsed_sections": [],
   "name": "for_home.ipynb",
   "provenance": [],
   "toc_visible": true
  },
  "kernelspec": {
   "display_name": ".venv",
   "language": "python",
   "name": "python3"
  },
  "language_info": {
   "codemirror_mode": {
    "name": "ipython",
    "version": 3
   },
   "file_extension": ".py",
   "mimetype": "text/x-python",
   "name": "python",
   "nbconvert_exporter": "python",
   "pygments_lexer": "ipython3",
   "version": "3.12.3"
  }
 },
 "nbformat": 4,
 "nbformat_minor": 0
}
